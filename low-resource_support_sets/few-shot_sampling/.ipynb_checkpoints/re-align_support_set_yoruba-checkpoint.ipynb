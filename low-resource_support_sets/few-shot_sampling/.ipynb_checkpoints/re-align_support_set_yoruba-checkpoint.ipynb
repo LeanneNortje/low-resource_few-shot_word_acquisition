{
 "cells": [
  {
   "cell_type": "code",
   "execution_count": 1,
   "id": "45b4fe49",
   "metadata": {},
   "outputs": [],
   "source": [
    "from tqdm import tqdm\n",
    "from pathlib import Path\n",
    "import json\n",
    "import re\n",
    "import numpy as np\n",
    "import torchaudio\n",
    "from IPython.display import Audio, display\n",
    "import textgrids\n",
    "import IPython.display as ipd\n",
    "from PIL import Image\n",
    "import matplotlib.pyplot as plt\n",
    "import shutil"
   ]
  },
  {
   "cell_type": "code",
   "execution_count": 2,
   "id": "611410ae",
   "metadata": {},
   "outputs": [],
   "source": [
    "K = 5"
   ]
  },
  {
   "cell_type": "code",
   "execution_count": 3,
   "id": "2347f660",
   "metadata": {},
   "outputs": [],
   "source": [
    "aud_files = Path(\"../../../Datasets/flickr_audio\")\n",
    "save_dir = Path('../support_set')\n",
    "save_dir.mkdir(parents=True, exist_ok=True)\n",
    "image_base = Path('../../../Datasets/Flicker8k_Dataset')\n",
    "image_save_dir = Path('../support_set/images')\n",
    "image_save_dir.mkdir(parents=True, exist_ok=True)"
   ]
  },
  {
   "cell_type": "code",
   "execution_count": 4,
   "id": "709e7233",
   "metadata": {},
   "outputs": [],
   "source": [
    "vocab = []\n",
    "with open('../data/test_keywords.txt', 'r') as f:\n",
    "    for keyword in f:\n",
    "        vocab.append(' '.join(keyword.split()))"
   ]
  },
  {
   "cell_type": "code",
   "execution_count": 5,
   "id": "ce95e29d",
   "metadata": {},
   "outputs": [],
   "source": [
    "alignments = {}\n",
    "prev = ''\n",
    "prev_wav = ''\n",
    "prev_start = 0\n",
    "with open(aud_files / 'flickr_8k.ctm', 'r') as f:\n",
    "    for line in f:\n",
    "        name, _, start, dur, label = line.strip().split()\n",
    "        wav = name.split('.')[0] + '_' + name.split('#')[-1]\n",
    "        label = label.lower()\n",
    "        if label in vocab:\n",
    "            if wav not in alignments: alignments[wav] = {}\n",
    "            if label not in alignments[wav]: alignments[wav][label] = (float(start), float(start) + float(dur))\n",
    "        prev = label\n",
    "        prev_wav = wav\n",
    "        prev_start = start"
   ]
  },
  {
   "cell_type": "code",
   "execution_count": 6,
   "id": "adb566ee",
   "metadata": {},
   "outputs": [
    {
     "name": "stdout",
     "output_type": "stream",
     "text": [
      "['ọmọkùnrin', 'àwọn ajá', 'koríko', 'àpáta', 'omi']\n"
     ]
    }
   ],
   "source": [
    "yoruba_alignments = {}\n",
    "translation = {}\n",
    "yoruba_vocab = []\n",
    "with open(Path('../../../Datasets/yfacc_v6/Flickr8k_text/eng_yoruba_keywords.txt'), 'r') as f:\n",
    "    for line in f:\n",
    "        e, y = line.strip().split(', ')\n",
    "        if e in vocab:\n",
    "            translation[e] = y\n",
    "            yoruba_vocab.append(y)\n",
    "\n",
    "print(yoruba_vocab)\n",
    "\n",
    "label_counts = {}\n",
    "for txt_grid in Path('../../../Datasets/yfacc_v6/Flickr8k_alignment').rglob('*.TextGrid'):\n",
    "    if str(txt_grid) == '../../../Datasets/yfacc_v6/Flickr8k_alignment/3187395715_f2940c2b72_0.TextGrid': continue\n",
    "    grid = textgrids.TextGrid(txt_grid)\n",
    "    wav = txt_grid.stem\n",
    "    \n",
    "    for interval in grid['words']:\n",
    "        \n",
    "        x = str(interval).split()\n",
    "        label = str(interval).split('\"')[1]\n",
    "        start = x[-2].split('=')[-1]\n",
    "        end = x[-1].split('=')[-1].split('>')[0]\n",
    "\n",
    "        if label in yoruba_vocab:\n",
    "            if wav not in yoruba_alignments: yoruba_alignments[wav] = {}\n",
    "            if label not in yoruba_alignments[wav]: yoruba_alignments[wav][label] = (float(start), float(end)-float(start))\n",
    "            if label not in label_counts: label_counts[label] = 0\n",
    "            label_counts[label] += 1"
   ]
  },
  {
   "cell_type": "code",
   "execution_count": 7,
   "id": "b1c981c2",
   "metadata": {},
   "outputs": [],
   "source": [
    "support_set = np.load(save_dir / Path('support_set.npz'), allow_pickle=True)['support_set'].item()"
   ]
  },
  {
   "cell_type": "code",
   "execution_count": 9,
   "id": "ab27ad42",
   "metadata": {},
   "outputs": [
    {
     "name": "stdout",
     "output_type": "stream",
     "text": [
      "../../Datasets/flickr_audio/wavs/1096395242_fc69f0ae5a_0.wav ../../Datasets/Flicker8k_Dataset/1096395242_fc69f0ae5a.jpg ../../Datasets/yfacc_v6/flickr_audio_yoruba_test/S001_1096395242_fc69f0ae5a_0.wav 0.71 1.0699999999999998 boy 0.968911456680419 1.6018533798794035 ọmọkùnrin\n",
      "../../Datasets/flickr_audio/wavs/114051287_dd85625a04_0.wav ../../Datasets/Flicker8k_Dataset/114051287_dd85625a04.jpg ../../Datasets/yfacc_v6/flickr_audio_yoruba_test/S001_114051287_dd85625a04_0.wav 1.16 1.47 boy 0.7313020833333334 1.3153993055555555 ọmọkùnrin\n",
      "../../Datasets/flickr_audio/wavs/1224851143_33bcdd299c_0.wav ../../Datasets/Flicker8k_Dataset/1224851143_33bcdd299c.jpg ../../Datasets/yfacc_v6/flickr_audio_yoruba_test/S001_1224851143_33bcdd299c_0.wav 0.36 0.6699999999999999 boy 0.8376346133502592 1.3017920236961813 ọmọkùnrin\n",
      "../../Datasets/flickr_audio/wavs/136644343_0e2b423829_0.wav ../../Datasets/Flicker8k_Dataset/136644343_0e2b423829.jpg ../../Datasets/yfacc_v6/flickr_audio_yoruba_test/S001_136644343_0e2b423829_0.wav 1.32 1.62 boy 0.49916087962962963 1.2854456018518519 ọmọkùnrin\n",
      "../../Datasets/flickr_audio/wavs/1509786421_f03158adfc_0.wav ../../Datasets/Flicker8k_Dataset/1509786421_f03158adfc.jpg ../../Datasets/yfacc_v6/flickr_audio_yoruba_test/S001_1509786421_f03158adfc_0.wav 0.64 0.92 boy 2.6380027504495933 3.228748545435312 ọmọkùnrin\n",
      "../../Datasets/flickr_audio/wavs/2340206885_58754a799a_0.wav ../../Datasets/Flicker8k_Dataset/2340206885_58754a799a.jpg ../../Datasets/yfacc_v6/flickr_audio_yoruba_test/S001_2340206885_58754a799a_0.wav 1.53 1.98 dogs 1.8690955252300858 2.3707606050989107 àwọn ajá\n",
      "../../Datasets/flickr_audio/wavs/2782433864_5a0c311d87_0.wav ../../Datasets/Flicker8k_Dataset/2782433864_5a0c311d87.jpg ../../Datasets/yfacc_v6/flickr_audio_yoruba_test/S001_2782433864_5a0c311d87_0.wav 1.0 1.43 dogs 0.7485538982333652 1.1611382629852958 àwọn ajá\n",
      "../../Datasets/flickr_audio/wavs/293327462_20dee0de56_0.wav ../../Datasets/Flicker8k_Dataset/293327462_20dee0de56.jpg ../../Datasets/yfacc_v6/flickr_audio_yoruba_test/S001_293327462_20dee0de56_0.wav 0.94 1.29 dogs 1.2361536020311013 1.7847032688035545 àwọn ajá\n",
      "../../Datasets/flickr_audio/wavs/2999730677_0cfa1c146e_0.wav ../../Datasets/Flicker8k_Dataset/2999730677_0cfa1c146e.jpg ../../Datasets/yfacc_v6/flickr_audio_yoruba_test/S001_2999730677_0cfa1c146e_0.wav 0.9 1.4 dogs 0.8211631944444444 1.2929340277777777 àwọn ajá\n",
      "../../Datasets/flickr_audio/wavs/315880837_90db309bab_0.wav ../../Datasets/Flicker8k_Dataset/315880837_90db309bab.jpg ../../Datasets/yfacc_v6/flickr_audio_yoruba_test/S001_315880837_90db309bab_0.wav 1.15 1.7599999999999998 dogs 0.9454691632286047 1.3768073627419868 àwọn ajá\n",
      "../../Datasets/flickr_audio/wavs/138718600_f430ebca17_0.wav ../../Datasets/Flicker8k_Dataset/138718600_f430ebca17.jpg ../../Datasets/yfacc_v6/flickr_audio_yoruba_test/S001_138718600_f430ebca17_0.wav 4.65 5.17 grass 4.0491712507237985 4.657958164447018 koríko\n",
      "../../Datasets/flickr_audio/wavs/1415591512_a84644750c_0.wav ../../Datasets/Flicker8k_Dataset/1415591512_a84644750c.jpg ../../Datasets/yfacc_v6/flickr_audio_yoruba_test/S001_1415591512_a84644750c_0.wav 4.33 5.13 grass 3.130290912937692 3.7210367079234112 koríko\n",
      "../../Datasets/flickr_audio/wavs/229862312_1a0ba19dab_0.wav ../../Datasets/Flicker8k_Dataset/229862312_1a0ba19dab.jpg ../../Datasets/yfacc_v6/flickr_audio_yoruba_test/S001_229862312_1a0ba19dab_0.wav 2.48 3.06 grass 5.315112662646779 5.943366127155401 koríko\n",
      "../../Datasets/flickr_audio/wavs/2854207034_1f00555703_0.wav ../../Datasets/Flicker8k_Dataset/2854207034_1f00555703.jpg ../../Datasets/yfacc_v6/flickr_audio_yoruba_test/S001_2854207034_1f00555703_0.wav 2.09 2.67 grass 2.2535491378398396 2.727083465566487 koríko\n",
      "../../Datasets/flickr_audio/wavs/2862004252_53894bb28b_0.wav ../../Datasets/Flicker8k_Dataset/2862004252_53894bb28b.jpg ../../Datasets/yfacc_v6/flickr_audio_yoruba_test/S001_2862004252_53894bb28b_0.wav 1.89 2.44 grass 2.386244212962963 3.172528935185185 koríko\n",
      "../../Datasets/flickr_audio/wavs/136552115_6dc3e7231c_0.wav ../../Datasets/Flicker8k_Dataset/136552115_6dc3e7231c.jpg ../../Datasets/yfacc_v6/flickr_audio_yoruba_test/S001_136552115_6dc3e7231c_0.wav 2.25 2.65 rock 3.217459490740741 3.7716030092592594 àpáta\n",
      "../../Datasets/flickr_audio/wavs/189721896_1ffe76d89e_0.wav ../../Datasets/Flicker8k_Dataset/189721896_1ffe76d89e.jpg ../../Datasets/yfacc_v6/flickr_audio_yoruba_test/S001_189721896_1ffe76d89e_0.wav 1.83 2.08 rock 1.6628033428541205 2.112895377128954 àpáta\n",
      "../../Datasets/flickr_audio/wavs/219070971_ae43410b9e_0.wav ../../Datasets/Flicker8k_Dataset/219070971_ae43410b9e.jpg ../../Datasets/yfacc_v6/flickr_audio_yoruba_test/S001_219070971_ae43410b9e_0.wav 3.12 3.46 rock 5.863662329419233 6.379392785359146 àpáta\n",
      "../../Datasets/flickr_audio/wavs/2208067635_39a03834ca_0.wav ../../Datasets/Flicker8k_Dataset/2208067635_39a03834ca.jpg ../../Datasets/yfacc_v6/flickr_audio_yoruba_test/S001_2208067635_39a03834ca_0.wav 2.48 2.89 rock 1.6346725907119435 2.0941415423675025 àpáta\n",
      "../../Datasets/flickr_audio/wavs/2759860913_f75b39d783_0.wav ../../Datasets/Flicker8k_Dataset/2759860913_f75b39d783.jpg ../../Datasets/yfacc_v6/flickr_audio_yoruba_test/S001_2759860913_f75b39d783_0.wav 2.21 2.51 rock 4.133621072675342 4.682170739447795 àpáta\n",
      "../../Datasets/flickr_audio/wavs/1392272228_cf104086e6_0.wav ../../Datasets/Flicker8k_Dataset/1392272228_cf104086e6.jpg ../../Datasets/yfacc_v6/flickr_audio_yoruba_test/S001_1392272228_cf104086e6_0.wav 2.8 3.3499999999999996 water 2.6286258330688677 2.891179519729187 omi\n",
      "../../Datasets/flickr_audio/wavs/1404832008_68e432665b_0.wav ../../Datasets/Flicker8k_Dataset/1404832008_68e432665b.jpg ../../Datasets/yfacc_v6/flickr_audio_yoruba_test/S001_1404832008_68e432665b_0.wav 2.47 2.9400000000000004 water 3.6788405797101453 3.9507711837511907 omi\n",
      "../../Datasets/flickr_audio/wavs/1772859261_236c09b861_0.wav ../../Datasets/Flicker8k_Dataset/1772859261_236c09b861.jpg ../../Datasets/yfacc_v6/flickr_audio_yoruba_test/S001_1772859261_236c09b861_0.wav 3.06 3.69 water 2.8114757219930184 3.233437004125675 omi\n",
      "../../Datasets/flickr_audio/wavs/211295363_49010ca38d_0.wav ../../Datasets/Flicker8k_Dataset/211295363_49010ca38d.jpg ../../Datasets/yfacc_v6/flickr_audio_yoruba_test/S001_211295363_49010ca38d_0.wav 1.43 1.71 water 1.8456532317782717 2.1269607532000423 omi\n",
      "../../Datasets/flickr_audio/wavs/2189995738_352607a63b_0.wav ../../Datasets/Flicker8k_Dataset/2189995738_352607a63b.jpg ../../Datasets/yfacc_v6/flickr_audio_yoruba_test/S001_2189995738_352607a63b_0.wav 1.72 1.98 water 3.4069099756691004 3.7116597905426856 omi\n"
     ]
    }
   ],
   "source": [
    "for name in support_set:\n",
    "    wav, im, yor, e_start, e_dur, word, y_start, y_end, y_word = support_set[name]\n",
    "    print(wav, im, yor, e_start, e_dur, word, y_start, y_end, y_word)\n",
    "\n",
    "        y_word = translation[word]\n",
    "        y_dur = int((float(yoruba_alignments[name][y_word][1])-float(yoruba_alignments[name][y_word][0]))*48000)\n",
    "        y_offset = int(float(yoruba_alignments[name][y_word][0])*48000)\n",
    "        y_aud, y_sr = torchaudio.load(Path('..') / yor, frame_offset=y_offset, num_frames=y_dur)\n",
    "        play = y_aud.squeeze().numpy()\n",
    "        ipd.display(ipd.Audio(play, rate=y_sr))\n",
    "        \n",
    "        y_word = translation[word]\n",
    "        y_dur = int((float(y_end)-float(y_start))*48000)\n",
    "        y_offset = int(float(yoruba_alignments[name][y_word][0])*48000)\n",
    "        y_aud, y_sr = torchaudio.load(Path('..') / yor, frame_offset=y_offset, num_frames=y_dur)\n",
    "        play = y_aud.squeeze().numpy()\n",
    "        ipd.display(ipd.Audio(play, rate=y_sr))\n",
    "\n",
    "#         impath = image_base / im \n",
    "#         img = Image.open(impath).convert('RGB')\n",
    "#         plt.title(word)\n",
    "#         plt.imshow(img)\n",
    "#         plt.show()\n",
    "\n",
    "#         ans = input(f'{count} / {K} {word}({y_word}): ')\n",
    "#         if ans == 'y':\n",
    "\n",
    "#             save_name = Path(wav).stem  + '_' + word + '.wav'\n",
    "#             out_path = save_dir / Path(wav).parent.stem / Path(save_name)\n",
    "#             out_path.parent.mkdir(parents=True, exist_ok=True)\n",
    "#             torchaudio.save(out_path, aud, sr)\n",
    "\n",
    "# #                 y_word = translation[word]\n",
    "# #                 y_dur = int((float(yoruba_alignments[name][y_word][1])-float(yoruba_alignments[name][y_word][0]))*48000)\n",
    "# #                 y_offset = int(float(yoruba_alignments[name][y_word][0])*48000)\n",
    "# #                 aud, sr = torchaudio.load(Path('..') / yor, frame_offset=y_offset, num_frames=y_dur)\n",
    "\n",
    "#             save_name = Path(yor).stem  + '_' + y_word + '.wav'\n",
    "#             out_path = save_dir / Path('wavs') / Path(save_name)\n",
    "#             out_path.parent.mkdir(parents=True, exist_ok=True)\n",
    "# #                 play = aud.squeeze().numpy() \n",
    "# #                 ipd.display(ipd.Audio(play, rate=sr))\n",
    "#             torchaudio.save(out_path, y_aud, y_sr)\n",
    "    \n",
    "#             out_path = image_save_dir / Path(impath.stem + '.jpg')\n",
    "#             shutil.copyfile(impath, out_path)\n",
    "\n",
    "#             support_set[name] = (wav, im, yor, alignments[name][word][0], alignments[name][word][1], word, yoruba_alignments[name][y_word][0], yoruba_alignments[name][y_word][1], y_word)\n",
    "\n",
    "#             np.savez_compressed(\n",
    "#                 save_dir / Path('support_set'), \n",
    "#                 support_set=support_set\n",
    "#                 )\n",
    "#             count += 1\n",
    "#         if count == K: break"
   ]
  },
  {
   "cell_type": "code",
   "execution_count": null,
   "id": "bd39fb97",
   "metadata": {},
   "outputs": [],
   "source": [
    "count = {}\n",
    "for name in support_set:\n",
    "    w = support_set[name][-1]\n",
    "    if w not in count: count[w] = 0\n",
    "    count[w] += 1\n",
    "    \n",
    "remove = []\n",
    "for w in count:\n",
    "    if count[w] != K:\n",
    "        remove.append(w)\n",
    "print(remove)\n",
    "names = list(support_set.keys() )\n",
    "for name in names:\n",
    "    w = support_set[name][-1]\n",
    "    if w in remove:\n",
    "        del support_set[name]"
   ]
  },
  {
   "cell_type": "code",
   "execution_count": null,
   "id": "08704973",
   "metadata": {},
   "outputs": [],
   "source": [
    "np.savez_compressed(\n",
    "    save_dir / Path('support_set'), \n",
    "    support_set=support_set\n",
    "    )"
   ]
  },
  {
   "cell_type": "code",
   "execution_count": null,
   "id": "18e88948",
   "metadata": {},
   "outputs": [],
   "source": []
  }
 ],
 "metadata": {
  "kernelspec": {
   "display_name": "Python 3 (ipykernel)",
   "language": "python",
   "name": "python3"
  },
  "language_info": {
   "codemirror_mode": {
    "name": "ipython",
    "version": 3
   },
   "file_extension": ".py",
   "mimetype": "text/x-python",
   "name": "python",
   "nbconvert_exporter": "python",
   "pygments_lexer": "ipython3",
   "version": "3.9.12"
  }
 },
 "nbformat": 4,
 "nbformat_minor": 5
}
