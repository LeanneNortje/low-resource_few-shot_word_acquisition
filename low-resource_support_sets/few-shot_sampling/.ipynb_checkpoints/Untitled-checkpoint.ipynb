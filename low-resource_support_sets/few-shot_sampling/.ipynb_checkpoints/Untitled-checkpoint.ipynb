{
 "cells": [
  {
   "cell_type": "code",
   "execution_count": 1,
   "id": "1f1acc0b",
   "metadata": {},
   "outputs": [
    {
     "name": "stderr",
     "output_type": "stream",
     "text": [
      "100%|█████████████████████████████████████████████████████████████████████████████████████████████████████████████████████████████████████████████████████████████████████████████| 25/25 [00:00<00:00, 71331.70it/s]\n"
     ]
    }
   ],
   "source": [
    "from pathlib import Path\n",
    "import json\n",
    "import re\n",
    "import numpy as np\n",
    "from tqdm import tqdm\n",
    "import string\n",
    "from PIL import Image\n",
    "\n",
    "num_episodes = 1000\n",
    "\n",
    "aud_files = Path(\"../../../Datasets/flickr_audio\")\n",
    "ss_save_fn = '../support_set/support_set.npz'\n",
    "image_base = Path('../../../Datasets/Flicker8k_Dataset')\n",
    "support_set = np.load(ss_save_fn, allow_pickle=True)['support_set'].item()\n",
    "val_fn = Path('../data/test.json')\n",
    "val = {}\n",
    "\n",
    "vocab = []\n",
    "with open('../data/test_keywords.txt', 'r') as f:\n",
    "    for keyword in f:\n",
    "        vocab.append(' '.join(keyword.split()))\n",
    "\n",
    "\n",
    "alignments = {}\n",
    "prev = ''\n",
    "prev_wav = ''\n",
    "prev_start = 0\n",
    "with open(aud_files / 'flickr_8k.ctm', 'r') as f:\n",
    "    for line in f:\n",
    "        name, _, start, dur, label = line.strip().split()\n",
    "        wav = name.split('.')[0] + '_' + name.split('#')[-1]\n",
    "        label = label.lower()\n",
    "        if label in vocab:\n",
    "            if wav not in alignments: alignments[wav] = {}\n",
    "            if label not in alignments[wav]: alignments[wav][label] = (float(start), float(start) + float(dur))\n",
    "        prev = label\n",
    "        prev_wav = wav\n",
    "        prev_start = start\n",
    "\n",
    "s_imgs = []\n",
    "s_wavs = []\n",
    "\n",
    "for wav_name in tqdm(support_set):\n",
    "\n",
    "    wav, img, yor, start, dur, word, _, _, _ = support_set[wav_name]\n",
    "    s_wavs.append(Path(wav).stem)\n",
    "    s_imgs.append(Path(img).stem)\n",
    "\n",
    "with open(val_fn, 'r') as f:\n",
    "    val = json.load(f)\n",
    "\n",
    "data = []\n",
    "words2imgs = {}\n",
    "words2aud = {}\n",
    "for w in val:\n",
    "    for im, eng, yor in val[w]:\n",
    "        data.append((im, eng, yor, w))\n",
    "        if w not in words2imgs: words2imgs[w] = []\n",
    "        words2imgs[w].append(Path(im).stem)\n",
    "        if w not in words2aud: words2aud[w] = []\n",
    "        words2aud[w].append(Path(eng).stem)"
   ]
  },
  {
   "cell_type": "code",
   "execution_count": 6,
   "id": "23732d23",
   "metadata": {},
   "outputs": [
    {
     "name": "stderr",
     "output_type": "stream",
     "text": [
      "  0%|                                                                                                                                                                                       | 0/1000 [00:00<?, ?it/s]\n"
     ]
    },
    {
     "name": "stdout",
     "output_type": "stream",
     "text": [
      "../../../Datasets/Flicker8k_Dataset/2608289957_044849f73e.jpg\n"
     ]
    },
    {
     "name": "stderr",
     "output_type": "stream",
     "text": [
      "  0%|                                                                                                                                                                                       | 0/1000 [00:00<?, ?it/s]\n"
     ]
    },
    {
     "name": "stdout",
     "output_type": "stream",
     "text": [
      "../../../Datasets/Flicker8k_Dataset/3192069971_83c5a90b4c.jpg\n"
     ]
    },
    {
     "name": "stderr",
     "output_type": "stream",
     "text": [
      "  0%|                                                                                                                                                                                       | 0/1000 [00:00<?, ?it/s]\n"
     ]
    },
    {
     "name": "stdout",
     "output_type": "stream",
     "text": [
      "../../../Datasets/Flicker8k_Dataset/317383917_d8bfa350b6.jpg\n"
     ]
    },
    {
     "name": "stderr",
     "output_type": "stream",
     "text": [
      "  0%|                                                                                                                                                                                       | 0/1000 [00:00<?, ?it/s]\n"
     ]
    },
    {
     "name": "stdout",
     "output_type": "stream",
     "text": [
      "../../../Datasets/Flicker8k_Dataset/1446053356_a924b4893f.jpg\n"
     ]
    },
    {
     "name": "stderr",
     "output_type": "stream",
     "text": [
      "  0%|                                                                                                                                                                                       | 0/1000 [00:00<?, ?it/s]"
     ]
    },
    {
     "name": "stdout",
     "output_type": "stream",
     "text": [
      "../../../Datasets/Flicker8k_Dataset/279728508_6bd7281f3c.jpg\n"
     ]
    },
    {
     "name": "stderr",
     "output_type": "stream",
     "text": [
      "\n"
     ]
    }
   ],
   "source": [
    "for word in vocab:\n",
    "\n",
    "    im_instances = np.random.choice(np.arange(0, len(words2imgs[word])), num_episodes)        \n",
    "    for episode_num in tqdm(range(num_episodes)):\n",
    "        impath = image_base / Path(str(words2imgs[word][im_instances[episode_num]]) + '.jpg') \n",
    "        \n",
    "        img = Image.open(impath).convert('RGB')\n",
    "        plt.imshow(img)\n",
    "        plt.imshow()\n",
    "        break"
   ]
  },
  {
   "cell_type": "code",
   "execution_count": null,
   "id": "f7ba41b2",
   "metadata": {},
   "outputs": [],
   "source": []
  }
 ],
 "metadata": {
  "kernelspec": {
   "display_name": "Python 3 (ipykernel)",
   "language": "python",
   "name": "python3"
  },
  "language_info": {
   "codemirror_mode": {
    "name": "ipython",
    "version": 3
   },
   "file_extension": ".py",
   "mimetype": "text/x-python",
   "name": "python",
   "nbconvert_exporter": "python",
   "pygments_lexer": "ipython3",
   "version": "3.9.12"
  }
 },
 "nbformat": 4,
 "nbformat_minor": 5
}
